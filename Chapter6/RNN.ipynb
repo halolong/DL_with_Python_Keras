{
  "nbformat": 4,
  "nbformat_minor": 0,
  "metadata": {
    "colab": {
      "name": "RNN.ipynb",
      "version": "0.3.2",
      "provenance": [],
      "collapsed_sections": []
    },
    "kernelspec": {
      "name": "python3",
      "display_name": "Python 3"
    },
    "accelerator": "GPU"
  },
  "cells": [
    {
      "metadata": {
        "id": "7yO3-uSbGtaP",
        "colab_type": "text"
      },
      "cell_type": "markdown",
      "source": [
        "##1. more detailed psedu-code simple RNN ##"
      ]
    },
    {
      "metadata": {
        "id": "nB3RfelHimG2",
        "colab_type": "code",
        "colab": {}
      },
      "cell_type": "code",
      "source": [
        "state_t = 0 #This is the state at t\n",
        "for input_t in input_sequence: \n",
        "  output_t = f(input_t, state_t) # `f` is our \"step function\"\n",
        "# output_t = activation(dot(w, input_t) + dot(U, state_t) + b)\n",
        "  state_t = output_t"
      ],
      "execution_count": 0,
      "outputs": []
    },
    {
      "metadata": {
        "id": "o7cso6SNHV9t",
        "colab_type": "text"
      },
      "cell_type": "markdown",
      "source": [
        "##2. Implementation of a simple RNN (Numpy)##"
      ]
    },
    {
      "metadata": {
        "id": "Lj5vMUZiHhZZ",
        "colab_type": "code",
        "colab": {}
      },
      "cell_type": "code",
      "source": [
        "import numpy as np\n",
        "\n",
        "timesteps = 100\n",
        "input_features = 32\n",
        "output_features = 64\n",
        "\n",
        "# input data (random)\n",
        "inputs = np.random.random((timesteps, input_features))\n",
        "\n",
        "# initial state: an all-zero vector\n",
        "state_t = np.zeros((output_features,))\n",
        "\n",
        "# create random weight matrices\n",
        "W = np.random.random((input_features, output_features))\n",
        "U = np.random.random((output_features, output_features))\n",
        "b = np.random.random((output_features,))\n",
        "\n",
        "successive_outputs = []\n",
        "for input_t in inputs:\n",
        "  output_t = np.tanh(np.dot(W, input_t) + np.dot(U, state_t) + b)\n",
        "  successive_outputs.append(output_t)\n",
        "  state_t = output_t\n",
        "  \n",
        "final_output_sequence = np.concatenate(successive_outputs, axis=0)\n",
        "print(final_output_sequence)"
      ],
      "execution_count": 0,
      "outputs": []
    },
    {
      "metadata": {
        "id": "fjHcUQV6KnGo",
        "colab_type": "text"
      },
      "cell_type": "markdown",
      "source": [
        "##3. RNN in Keras##"
      ]
    },
    {
      "metadata": {
        "id": "Ge_thSEIKrGo",
        "colab_type": "code",
        "colab": {
          "base_uri": "https://localhost:8080/",
          "height": 238
        },
        "outputId": "52e2295f-45ea-44bb-f6eb-c34b622b74cc"
      },
      "cell_type": "code",
      "source": [
        "from keras.models import Sequential\n",
        "from keras.layers import SimpleRNN, Embedding\n",
        "\n",
        "model = Sequential()\n",
        "model.add(Embedding(1000, 32))\n",
        "model.add(SimpleRNN(32, return_sequences=True))\n",
        "model.add(SimpleRNN(32))\n",
        "model.summary()"
      ],
      "execution_count": 13,
      "outputs": [
        {
          "output_type": "stream",
          "text": [
            "_________________________________________________________________\n",
            "Layer (type)                 Output Shape              Param #   \n",
            "=================================================================\n",
            "embedding_3 (Embedding)      (None, None, 32)          32000     \n",
            "_________________________________________________________________\n",
            "simple_rnn_4 (SimpleRNN)     (None, None, 32)          2080      \n",
            "_________________________________________________________________\n",
            "simple_rnn_5 (SimpleRNN)     (None, 32)                2080      \n",
            "=================================================================\n",
            "Total params: 36,160\n",
            "Trainable params: 36,160\n",
            "Non-trainable params: 0\n",
            "_________________________________________________________________\n"
          ],
          "name": "stdout"
        }
      ]
    },
    {
      "metadata": {
        "id": "a0X9N0fPMP2h",
        "colab_type": "text"
      },
      "cell_type": "markdown",
      "source": [
        "##IMDB using RNN##"
      ]
    },
    {
      "metadata": {
        "id": "v5BmFPP9MUBj",
        "colab_type": "code",
        "colab": {
          "base_uri": "https://localhost:8080/",
          "height": 1200
        },
        "outputId": "1e4a3a19-d2f0-4c48-8f62-e69ee90b0e4e"
      },
      "cell_type": "code",
      "source": [
        "from keras.datasets import imdb\n",
        "from keras.preprocessing import sequence\n",
        "from keras.layers import Dense, SimpleRNN\n",
        "import matplotlib.pyplot as plt\n",
        "\n",
        "max_features = 10000  # number of words to consider as features\n",
        "maxlen = 500  # cut texts after this number of words (among top max_features most common words)\n",
        "batch_size = 32\n",
        "\n",
        "print('Loading data...')\n",
        "(input_train, y_train), (input_test, y_test) = imdb.load_data(num_words=max_features)\n",
        "print(len(input_train), 'train sequences')\n",
        "print(len(input_test), 'test sequences')\n",
        "\n",
        "print('Pad sequences (samples x time)')\n",
        "input_train = sequence.pad_sequences(input_train, maxlen=maxlen)\n",
        "input_test = sequence.pad_sequences(input_test, maxlen=maxlen)\n",
        "\n",
        "print('input_train shape:', input_train.shape)\n",
        "print('input_test shape:', input_test.shape)\n",
        "\n",
        "print('Loading model...')\n",
        "model = Sequential()\n",
        "model.add(Embedding(max_features, 32))\n",
        "model.add(SimpleRNN(32))\n",
        "model.add(Dense(1, activation='sigmoid'))\n",
        "\n",
        "model.compile(optimizer='rmsprop',\n",
        "             loss='binary_crossentropy',\n",
        "             metrics=['acc'])\n",
        "\n",
        "history = model.fit(input_train, \n",
        "                   y_train,\n",
        "                   epochs=10,\n",
        "                   batch_size=128,\n",
        "                   validation_split=0.2)\n",
        "print('Plotting...')\n",
        "\n",
        "acc = history.history['acc']\n",
        "val_acc = history.history['val_acc']\n",
        "loss = history.history['loss']\n",
        "val_loss = history.history['val_loss']\n",
        "\n",
        "epochs = range(1, len(acc) + 1)\n",
        "\n",
        "plt.plot(epochs, acc, 'bo', label='Training acc')\n",
        "plt.plot(epochs, val_acc, 'b', label='Validation acc')\n",
        "plt.title('Training and validation accuracy')\n",
        "plt.legend()\n",
        "plt.figure()\n",
        "\n",
        "plt.plot(epochs, loss, 'bo', label='Training loss')\n",
        "plt.plot(epochs, val_loss, 'b', label='Validation loss')\n",
        "plt.title('Training and validation loss')\n",
        "plt.legend()\n",
        "plt.show()\n",
        "\n",
        "# -----Not Finished Yet ------\n"
      ],
      "execution_count": 16,
      "outputs": [
        {
          "output_type": "stream",
          "text": [
            "Loading data...\n",
            "25000 train sequences\n",
            "25000 test sequences\n",
            "Pad sequences (samples x time)\n",
            "input_train shape: (25000, 500)\n",
            "input_test shape: (25000, 500)\n",
            "Loading model...\n",
            "Train on 20000 samples, validate on 5000 samples\n",
            "Epoch 1/10\n",
            "20000/20000 [==============================] - 46s 2ms/step - loss: 0.6405 - acc: 0.6157 - val_loss: 0.5296 - val_acc: 0.7290\n",
            "Epoch 2/10\n",
            "20000/20000 [==============================] - 42s 2ms/step - loss: 0.4128 - acc: 0.8260 - val_loss: 0.4177 - val_acc: 0.8186\n",
            "Epoch 3/10\n",
            "20000/20000 [==============================] - 42s 2ms/step - loss: 0.3109 - acc: 0.8732 - val_loss: 0.4240 - val_acc: 0.8048\n",
            "Epoch 4/10\n",
            "20000/20000 [==============================] - 42s 2ms/step - loss: 0.2446 - acc: 0.9054 - val_loss: 0.3730 - val_acc: 0.8420\n",
            "Epoch 5/10\n",
            "20000/20000 [==============================] - 43s 2ms/step - loss: 0.1844 - acc: 0.9307 - val_loss: 0.3920 - val_acc: 0.8628\n",
            "Epoch 6/10\n",
            "20000/20000 [==============================] - 45s 2ms/step - loss: 0.1221 - acc: 0.9571 - val_loss: 0.4194 - val_acc: 0.8348\n",
            "Epoch 7/10\n",
            "20000/20000 [==============================] - 43s 2ms/step - loss: 0.0871 - acc: 0.9704 - val_loss: 0.4410 - val_acc: 0.8458\n",
            "Epoch 8/10\n",
            "20000/20000 [==============================] - 44s 2ms/step - loss: 0.0613 - acc: 0.9812 - val_loss: 0.5167 - val_acc: 0.8264\n",
            "Epoch 9/10\n",
            "20000/20000 [==============================] - 44s 2ms/step - loss: 0.0351 - acc: 0.9896 - val_loss: 0.6079 - val_acc: 0.8132\n",
            "Epoch 10/10\n",
            "20000/20000 [==============================] - 43s 2ms/step - loss: 0.0270 - acc: 0.9921 - val_loss: 0.5904 - val_acc: 0.8398\n",
            "Plotting...\n"
          ],
          "name": "stdout"
        },
        {
          "output_type": "display_data",
          "data": {
            "image/png": "[encoded data removed]",
            "text/plain": [
              "<Figure size 576x396 with 1 Axes>"
            ]
          },
          "metadata": {
            "tags": []
          }
        },
        {
          "output_type": "display_data",
          "data": {
            "image/png": "[encoded data removed]",
            "text/plain": [
              "<Figure size 576x396 with 1 Axes>"
            ]
          },
          "metadata": {
            "tags": []
          }
        }
      ]
    }
  ]
}